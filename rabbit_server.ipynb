{
 "cells": [
  {
   "cell_type": "code",
   "execution_count": null,
   "metadata": {},
   "outputs": [
    {
     "name": "stdout",
     "output_type": "stream",
     "text": [
      "  Awaiting RPC requests\n",
      " [.] priceof(41)\n",
      " [.] priceof(66)\n",
      " [.] priceof(44)\n"
     ]
    }
   ],
   "source": [
    "import pika\n",
    "\n",
    "connection = pika.BlockingConnection(pika.ConnectionParameters(host='localhost'))\n",
    "\n",
    "channel = connection.channel()\n",
    "\n",
    "channel.queue_declare(queue='Pricing')#name of the queue in which the server will listen for queries\n",
    "\n",
    "def priceof(x):\n",
    "    if x == ord(\"A\"):\n",
    "        return 10\n",
    "    elif x == ord(\"B\"):\n",
    "        return 15\n",
    "    elif x == ord(\"C\"):\n",
    "        return 30\n",
    "    else:\n",
    "        return \"Requested Part is unavailable\"\n",
    "\n",
    "def on_request(ch, method, props, body):\n",
    "    n = int(body)\n",
    "\n",
    "    print(\" [.] priceof(%x)\" % n)\n",
    "    response = priceof(n)\n",
    "\n",
    "    ch.basic_publish(exchange='',\n",
    "                     routing_key=props.reply_to,\n",
    "                     properties=pika.BasicProperties(correlation_id = \\\n",
    "                                                         props.correlation_id),\n",
    "                     body=str(response))\n",
    "    ch.basic_ack(delivery_tag = method.delivery_tag)\n",
    "\n",
    "channel.basic_qos(prefetch_count=1)\n",
    "channel.basic_consume(on_request, queue='Pricing')\n",
    "\n",
    "print(\"  Awaiting RPC requests\")\n",
    "channel.start_consuming()\n",
    "'''firstly the connection channel is opened through using pika package, the channel is declare for connection and \n",
    "a queue is dedicated for servers which takes queries from clients and servers listen to the queries through this queue.\n",
    "After a function on request is called which telles what server has to do after listening the queries, now this funtion calls \n",
    "the user defined functions which in turn provides us the response'''\n"
   ]
  },
  {
   "cell_type": "code",
   "execution_count": null,
   "metadata": {},
   "outputs": [],
   "source": []
  },
  {
   "cell_type": "code",
   "execution_count": null,
   "metadata": {},
   "outputs": [],
   "source": []
  }
 ],
 "metadata": {
  "kernelspec": {
   "display_name": "Python 3",
   "language": "python",
   "name": "python3"
  },
  "language_info": {
   "codemirror_mode": {
    "name": "ipython",
    "version": 3
   },
   "file_extension": ".py",
   "mimetype": "text/x-python",
   "name": "python",
   "nbconvert_exporter": "python",
   "pygments_lexer": "ipython3",
   "version": "3.7.1"
  }
 },
 "nbformat": 4,
 "nbformat_minor": 2
}
