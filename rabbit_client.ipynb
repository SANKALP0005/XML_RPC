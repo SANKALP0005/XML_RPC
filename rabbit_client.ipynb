{
 "cells": [
  {
   "cell_type": "code",
   "execution_count": 13,
   "metadata": {},
   "outputs": [
    {
     "name": "stdout",
     "output_type": "stream",
     "text": [
      "enter the name of part for which quote is needed\n",
      "f\n",
      " Requesting price for f\n",
      "Got \"b'Requested Part is unavailable'\" \n"
     ]
    }
   ],
   "source": [
    "import pika\n",
    "import uuid\n",
    "\n",
    "class QuoteRpcClient(object):# a connection, channel and declare an exclusive 'callback' queue for replies\n",
    "    def __init__(self):\n",
    "        self.connection = pika.BlockingConnection(pika.ConnectionParameters(host='localhost'))\n",
    "\n",
    "        self.channel = self.connection.channel()\n",
    "\n",
    "        result = self.channel.queue_declare(exclusive=True)\n",
    "        self.callback_queue = result.method.queue\n",
    "\n",
    "        self.channel.basic_consume(self.on_response, no_ack=True,\n",
    "                                   queue=self.callback_queue)\n",
    "\n",
    "    def on_response(self, ch, method, props, body):\n",
    "        if self.corr_id == props.correlation_id:\n",
    "            self.response = body\n",
    "\n",
    "    def call(self, n):\n",
    "        self.response = None\n",
    "        self.corr_id = str(uuid.uuid4())\n",
    "        self.channel.basic_publish(exchange='',\n",
    "                                   routing_key='Pricing',\n",
    "                                   properties=pika.BasicProperties(\n",
    "                                         reply_to = self.callback_queue,\n",
    "                                         correlation_id = self.corr_id,\n",
    "                                         ),\n",
    "                                   body=str(n))\n",
    "        while self.response is None:\n",
    "            self.connection.process_data_events()\n",
    "        return str(self.response)\n",
    "\n",
    "quote_rpc = QuoteRpcClient()\n",
    "\n",
    "s = str(input(\"enter the name of part for which price is needed\\n\"))\n",
    "print(\" Requesting price of item-\", s)\n",
    "response = quote_rpc.call(ord(s))\n",
    "print(\"Got %r \" % response)\n",
    "\n",
    "'''Here a chennel and a connection is established to connect to the server, and a exclusive 'callback' queue for \n",
    "servers to reply in them this queue is unique for each client irrespective of the queue for server which is comman for all.\n",
    "Then the 'on_response' callback executed on every response messagechecks if the correlation_id is the one we're looking for. \n",
    "If so, it saves the response in self.response and breaks the consuming loop.The call method first we generate a unique \n",
    "correlation_id number and save it as the 'on_response' callback function will use this value to catch the appropriate response.\n",
    "And finally the response is returned back to the user'''"
   ]
  },
  {
   "cell_type": "code",
   "execution_count": null,
   "metadata": {},
   "outputs": [],
   "source": [
    "\n"
   ]
  },
  {
   "cell_type": "code",
   "execution_count": null,
   "metadata": {},
   "outputs": [],
   "source": []
  }
 ],
 "metadata": {
  "kernelspec": {
   "display_name": "Python 3",
   "language": "python",
   "name": "python3"
  },
  "language_info": {
   "codemirror_mode": {
    "name": "ipython",
    "version": 3
   },
   "file_extension": ".py",
   "mimetype": "text/x-python",
   "name": "python",
   "nbconvert_exporter": "python",
   "pygments_lexer": "ipython3",
   "version": "3.7.1"
  }
 },
 "nbformat": 4,
 "nbformat_minor": 2
}
