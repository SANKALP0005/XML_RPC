{
 "cells": [
  {
   "cell_type": "code",
   "execution_count": 10,
   "metadata": {},
   "outputs": [
    {
     "name": "stdout",
     "output_type": "stream",
     "text": [
      "enter the part-S\n",
      "requesting for price of S\n",
      "got:Price of S is Requested Part is unavailable rupees\n"
     ]
    }
   ],
   "source": [
    "import xmlrpc.client\n",
    "p=input(\"enter the part-\")\n",
    "print('requesting for price of',p)\n",
    "s = xmlrpc.client.ServerProxy('http://localhost:8000')\n",
    "print('got:Price of',p,'is',s.Price(p),'rupees')#returns the price of item\n"
   ]
  },
  {
   "cell_type": "code",
   "execution_count": null,
   "metadata": {},
   "outputs": [],
   "source": []
  },
  {
   "cell_type": "code",
   "execution_count": null,
   "metadata": {},
   "outputs": [],
   "source": []
  }
 ],
 "metadata": {
  "kernelspec": {
   "display_name": "Python 3",
   "language": "python",
   "name": "python3"
  },
  "language_info": {
   "codemirror_mode": {
    "name": "ipython",
    "version": 3
   },
   "file_extension": ".py",
   "mimetype": "text/x-python",
   "name": "python",
   "nbconvert_exporter": "python",
   "pygments_lexer": "ipython3",
   "version": "3.7.1"
  }
 },
 "nbformat": 4,
 "nbformat_minor": 2
}
